{
 "cells": [
  {
   "cell_type": "code",
   "execution_count": 1,
   "metadata": {},
   "outputs": [],
   "source": [
    "# Importing necessary lbiraries\n",
    "\n",
    "import pandas as pd\n",
    "import numpy as np\n",
    "import selenium\n",
    "from selenium import webdriver\n",
    "import shutil\n",
    "import requests\n",
    "from selenium.webdriver.chrome.options import Options\n",
    "import os\n",
    "import time\n",
    "from selenium.common.exceptions import NoSuchElementException"
   ]
  },
  {
   "cell_type": "code",
   "execution_count": 2,
   "metadata": {},
   "outputs": [],
   "source": [
    "# Creating empty list to store labels \n",
    "labels = []"
   ]
  },
  {
   "cell_type": "code",
   "execution_count": 3,
   "metadata": {},
   "outputs": [],
   "source": [
    "# function to create a directory\n",
    "\n",
    "def directory(folder):\n",
    "    img_dir = os.path.join(os.getcwd(), folder)\n",
    "    if not os.path.exists(img_dir):\n",
    "        os.makedirs(img_dir)\n",
    "        \n",
    "    return folder"
   ]
  },
  {
   "cell_type": "code",
   "execution_count": 4,
   "metadata": {},
   "outputs": [],
   "source": [
    "# Calling the above function\n",
    "\n",
    "folder = directory(\"data\")"
   ]
  },
  {
   "cell_type": "code",
   "execution_count": 5,
   "metadata": {},
   "outputs": [],
   "source": [
    "# Function for scraping, downloading and storing the required images/data.\n",
    "\n",
    "def images(url, folder, labels, label):\n",
    "    \n",
    "    # Opening drive \n",
    "    chrome_options = Options()\n",
    "    chrome_options.add_argument(\"--incognito\")\n",
    "    driver = webdriver.Chrome(r\"D:\\sanss_data\\FlipRobo\\chromedriver.exe\", options=chrome_options)\n",
    "    amazon_url = driver.get(url)\n",
    "    \n",
    "    time.sleep(3)\n",
    "\n",
    "    # Locating the search bar\n",
    "    search_bar = driver.find_element_by_id(\"twotabsearchtextbox\")\n",
    "    search_bar.clear()\n",
    "    category = input('Search Category : ')\n",
    "    search_bar.send_keys(category)\n",
    "\n",
    "    #locating the button and clicking it to search the category\n",
    "    button = driver.find_element_by_id('nav-search-submit-button')\n",
    "    button.click()\n",
    "\n",
    "    time.sleep(3)\n",
    "    \n",
    "    # Creating empty list fto sotre data\n",
    "    image_urls = []\n",
    "    \n",
    "    # Loop for iterating the pages and thus scraping the images\n",
    "    for page in range(1, 6):\n",
    "        print('\\nPage', page)\n",
    "        \n",
    "        time.sleep(3)\n",
    "\n",
    "        # Giving path of the images to be scrapped\n",
    "        images = driver.find_elements_by_xpath(\"//img[@class = 's-image']\")\n",
    "\n",
    "        # Getting the source/link of the images.\n",
    "        for img in images:\n",
    "            source = img.get_attribute('src')\n",
    "            image_urls.append(source)\n",
    "    \n",
    "        # Downloading the images and saving the same in the respective directory.\n",
    "        for i, image_link in enumerate(image_urls):\n",
    "            response = requests.get(image_link)\n",
    "\n",
    "            # Downloading the images\n",
    "            image_name = folder + '/' + category + '_' + str(i+1) + '.jpg'\n",
    "            with open(image_name, 'wb') as file:\n",
    "                file.write(response.content)\n",
    "\n",
    "        time.sleep(3)\n",
    "        \n",
    "        print(\"Downloads of images from Page\", page, \"is completed! \\n\")\n",
    "        \n",
    "        time.sleep(3)\n",
    "\n",
    "        # Moving to the next page.\n",
    "        next_page = driver.find_element_by_xpath(\"//li[@class = 'a-last']/a\")\n",
    "        next_page.click()\n",
    "        \n",
    "    print(\"Total images downlaoded of\", str(category), \": \", len(image_urls))\n",
    "    for i in image_urls:\n",
    "        labels.append(label)"
   ]
  },
  {
   "cell_type": "code",
   "execution_count": 6,
   "metadata": {},
   "outputs": [
    {
     "name": "stdout",
     "output_type": "stream",
     "text": [
      "0\n"
     ]
    }
   ],
   "source": [
    "print(len(labels))"
   ]
  },
  {
   "cell_type": "markdown",
   "metadata": {},
   "source": [
    "### Jeans"
   ]
  },
  {
   "cell_type": "code",
   "execution_count": 7,
   "metadata": {},
   "outputs": [
    {
     "name": "stdout",
     "output_type": "stream",
     "text": [
      "Search Category : Jeans (men)\n",
      "\n",
      "Page 1\n",
      "Downloads of images from Page 1 is completed! \n",
      "\n",
      "\n",
      "Page 2\n",
      "Downloads of images from Page 2 is completed! \n",
      "\n",
      "\n",
      "Page 3\n",
      "Downloads of images from Page 3 is completed! \n",
      "\n",
      "\n",
      "Page 4\n",
      "Downloads of images from Page 4 is completed! \n",
      "\n",
      "\n",
      "Page 5\n",
      "Downloads of images from Page 5 is completed! \n",
      "\n",
      "Total images downlaoded of Jeans (men) :  200\n"
     ]
    }
   ],
   "source": [
    "# Calling the function and scraping the 'Sarees (women)' category images.\n",
    "\n",
    "images(\"https://www.amazon.com/\", folder, labels, 0)"
   ]
  },
  {
   "cell_type": "code",
   "execution_count": 8,
   "metadata": {},
   "outputs": [
    {
     "data": {
      "text/plain": [
       "200"
      ]
     },
     "execution_count": 8,
     "metadata": {},
     "output_type": "execute_result"
    }
   ],
   "source": [
    "len(labels)"
   ]
  },
  {
   "cell_type": "markdown",
   "metadata": {},
   "source": [
    "### Sarees"
   ]
  },
  {
   "cell_type": "code",
   "execution_count": 9,
   "metadata": {
    "scrolled": false
   },
   "outputs": [
    {
     "name": "stdout",
     "output_type": "stream",
     "text": [
      "Search Category : Sarees (women)\n",
      "\n",
      "Page 1\n",
      "Downloads of images from Page 1 is completed! \n",
      "\n",
      "\n",
      "Page 2\n",
      "Downloads of images from Page 2 is completed! \n",
      "\n",
      "\n",
      "Page 3\n",
      "Downloads of images from Page 3 is completed! \n",
      "\n",
      "\n",
      "Page 4\n",
      "Downloads of images from Page 4 is completed! \n",
      "\n",
      "\n",
      "Page 5\n",
      "Downloads of images from Page 5 is completed! \n",
      "\n",
      "Total images downlaoded of Sarees (women) :  285\n"
     ]
    }
   ],
   "source": [
    "# Calling the function and scraping the 'Sarees (women)' category images.\n",
    "\n",
    "images(\"https://www.amazon.com/\", folder, labels, 1)"
   ]
  },
  {
   "cell_type": "code",
   "execution_count": 10,
   "metadata": {},
   "outputs": [
    {
     "data": {
      "text/plain": [
       "485"
      ]
     },
     "execution_count": 10,
     "metadata": {},
     "output_type": "execute_result"
    }
   ],
   "source": [
    "len(labels)"
   ]
  },
  {
   "cell_type": "markdown",
   "metadata": {},
   "source": [
    "### Trousers"
   ]
  },
  {
   "cell_type": "code",
   "execution_count": 11,
   "metadata": {},
   "outputs": [
    {
     "name": "stdout",
     "output_type": "stream",
     "text": [
      "Search Category : Trousers (men)\n",
      "\n",
      "Page 1\n",
      "Downloads of images from Page 1 is completed! \n",
      "\n",
      "\n",
      "Page 2\n",
      "Downloads of images from Page 2 is completed! \n",
      "\n",
      "\n",
      "Page 3\n",
      "Downloads of images from Page 3 is completed! \n",
      "\n",
      "\n",
      "Page 4\n",
      "Downloads of images from Page 4 is completed! \n",
      "\n",
      "\n",
      "Page 5\n",
      "Downloads of images from Page 5 is completed! \n",
      "\n",
      "Total images downlaoded of Trousers (men) :  200\n"
     ]
    }
   ],
   "source": [
    "# Calling the function and scraping the 'Sarees (women)' category images.\n",
    "\n",
    "images(\"https://www.amazon.com/\", folder, labels, 2)"
   ]
  },
  {
   "cell_type": "code",
   "execution_count": 12,
   "metadata": {},
   "outputs": [
    {
     "data": {
      "text/plain": [
       "685"
      ]
     },
     "execution_count": 12,
     "metadata": {},
     "output_type": "execute_result"
    }
   ],
   "source": [
    "len(labels)"
   ]
  },
  {
   "cell_type": "code",
   "execution_count": 13,
   "metadata": {},
   "outputs": [
    {
     "data": {
      "text/html": [
       "<div>\n",
       "<style scoped>\n",
       "    .dataframe tbody tr th:only-of-type {\n",
       "        vertical-align: middle;\n",
       "    }\n",
       "\n",
       "    .dataframe tbody tr th {\n",
       "        vertical-align: top;\n",
       "    }\n",
       "\n",
       "    .dataframe thead th {\n",
       "        text-align: right;\n",
       "    }\n",
       "</style>\n",
       "<table border=\"1\" class=\"dataframe\">\n",
       "  <thead>\n",
       "    <tr style=\"text-align: right;\">\n",
       "      <th></th>\n",
       "      <th>0</th>\n",
       "    </tr>\n",
       "  </thead>\n",
       "  <tbody>\n",
       "    <tr>\n",
       "      <th>0</th>\n",
       "      <td>0</td>\n",
       "    </tr>\n",
       "    <tr>\n",
       "      <th>1</th>\n",
       "      <td>0</td>\n",
       "    </tr>\n",
       "    <tr>\n",
       "      <th>2</th>\n",
       "      <td>0</td>\n",
       "    </tr>\n",
       "    <tr>\n",
       "      <th>3</th>\n",
       "      <td>0</td>\n",
       "    </tr>\n",
       "    <tr>\n",
       "      <th>4</th>\n",
       "      <td>0</td>\n",
       "    </tr>\n",
       "    <tr>\n",
       "      <th>...</th>\n",
       "      <td>...</td>\n",
       "    </tr>\n",
       "    <tr>\n",
       "      <th>680</th>\n",
       "      <td>2</td>\n",
       "    </tr>\n",
       "    <tr>\n",
       "      <th>681</th>\n",
       "      <td>2</td>\n",
       "    </tr>\n",
       "    <tr>\n",
       "      <th>682</th>\n",
       "      <td>2</td>\n",
       "    </tr>\n",
       "    <tr>\n",
       "      <th>683</th>\n",
       "      <td>2</td>\n",
       "    </tr>\n",
       "    <tr>\n",
       "      <th>684</th>\n",
       "      <td>2</td>\n",
       "    </tr>\n",
       "  </tbody>\n",
       "</table>\n",
       "<p>685 rows × 1 columns</p>\n",
       "</div>"
      ],
      "text/plain": [
       "     0\n",
       "0    0\n",
       "1    0\n",
       "2    0\n",
       "3    0\n",
       "4    0\n",
       "..  ..\n",
       "680  2\n",
       "681  2\n",
       "682  2\n",
       "683  2\n",
       "684  2\n",
       "\n",
       "[685 rows x 1 columns]"
      ]
     },
     "execution_count": 13,
     "metadata": {},
     "output_type": "execute_result"
    }
   ],
   "source": [
    "# COnverting the 'labels' list into dataframe.\n",
    "\n",
    "df = pd.DataFrame(labels)\n",
    "df"
   ]
  },
  {
   "cell_type": "code",
   "execution_count": 14,
   "metadata": {},
   "outputs": [],
   "source": [
    "# Saving the scrapped data labels in csv format.\n",
    "\n",
    "df.to_csv(\"data.csv\", index = False)"
   ]
  }
 ],
 "metadata": {
  "kernelspec": {
   "display_name": "Python 3",
   "language": "python",
   "name": "python3"
  },
  "language_info": {
   "codemirror_mode": {
    "name": "ipython",
    "version": 3
   },
   "file_extension": ".py",
   "mimetype": "text/x-python",
   "name": "python",
   "nbconvert_exporter": "python",
   "pygments_lexer": "ipython3",
   "version": "3.8.5"
  }
 },
 "nbformat": 4,
 "nbformat_minor": 4
}
